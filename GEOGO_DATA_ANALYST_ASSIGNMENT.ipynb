{
 "cells": [
  {
   "cell_type": "markdown",
   "id": "f087045d",
   "metadata": {},
   "source": [
    "## Author: Aniket Tanaji Dabade\n",
    "\n",
    "### Data Analysis Assignment"
   ]
  },
  {
   "cell_type": "markdown",
   "id": "7eea4259",
   "metadata": {},
   "source": [
    "Problem Statement\n",
    "\n",
    "​​You work for the human resource department of a large corporation. The management is worried about the relatively high turnover, and your team must look into ways to reduce the number of employees leaving the company.\n",
    "The team needs to understand better the situation, which employees are more likely to leave, and why. Once it is clear what variables impact employee churn, you can present your findings along with your ideas on how to attack the problem.\n",
    "\n",
    "\n",
    "Dataset  link : https://drive.google.com/file/d/1CKsZhna66HcEl_2SgkjTo23EmBmw_UNQ/view?usp=sharing"
   ]
  },
  {
   "cell_type": "markdown",
   "id": "2ff8f5dd",
   "metadata": {},
   "source": [
    "### Importing Required Libraries"
   ]
  },
  {
   "cell_type": "code",
   "execution_count": 1,
   "id": "da4202c3",
   "metadata": {},
   "outputs": [],
   "source": [
    "import numpy as np\n",
    "import pandas as pd\n",
    "import matplotlib.pyplot as plt\n",
    "import seaborn as sns\n",
    "import warnings\n",
    "warnings.filterwarnings(\"ignore\")\n"
   ]
  },
  {
   "cell_type": "markdown",
   "id": "5bc56ff5",
   "metadata": {},
   "source": [
    "### Importing Dataset"
   ]
  },
  {
   "cell_type": "code",
   "execution_count": 2,
   "id": "ff6327a3",
   "metadata": {},
   "outputs": [],
   "source": [
    "data=pd.read_csv(r\"C:\\Users\\admin\\Desktop\\GEOGO\\RECEIVED DS\\employee_churn_data.csv\")"
   ]
  },
  {
   "cell_type": "code",
   "execution_count": 3,
   "id": "1ac06b2c",
   "metadata": {},
   "outputs": [
    {
     "data": {
      "text/html": [
       "<div>\n",
       "<style scoped>\n",
       "    .dataframe tbody tr th:only-of-type {\n",
       "        vertical-align: middle;\n",
       "    }\n",
       "\n",
       "    .dataframe tbody tr th {\n",
       "        vertical-align: top;\n",
       "    }\n",
       "\n",
       "    .dataframe thead th {\n",
       "        text-align: right;\n",
       "    }\n",
       "</style>\n",
       "<table border=\"1\" class=\"dataframe\">\n",
       "  <thead>\n",
       "    <tr style=\"text-align: right;\">\n",
       "      <th></th>\n",
       "      <th>department</th>\n",
       "      <th>promoted</th>\n",
       "      <th>review</th>\n",
       "      <th>projects</th>\n",
       "      <th>salary</th>\n",
       "      <th>tenure</th>\n",
       "      <th>satisfaction</th>\n",
       "      <th>bonus</th>\n",
       "      <th>avg_hrs_month</th>\n",
       "      <th>left</th>\n",
       "    </tr>\n",
       "  </thead>\n",
       "  <tbody>\n",
       "    <tr>\n",
       "      <th>0</th>\n",
       "      <td>operations</td>\n",
       "      <td>0</td>\n",
       "      <td>0.577569</td>\n",
       "      <td>3</td>\n",
       "      <td>low</td>\n",
       "      <td>5.0</td>\n",
       "      <td>0.626759</td>\n",
       "      <td>0</td>\n",
       "      <td>180.866070</td>\n",
       "      <td>no</td>\n",
       "    </tr>\n",
       "    <tr>\n",
       "      <th>1</th>\n",
       "      <td>operations</td>\n",
       "      <td>0</td>\n",
       "      <td>0.751900</td>\n",
       "      <td>3</td>\n",
       "      <td>medium</td>\n",
       "      <td>6.0</td>\n",
       "      <td>0.443679</td>\n",
       "      <td>0</td>\n",
       "      <td>182.708149</td>\n",
       "      <td>no</td>\n",
       "    </tr>\n",
       "    <tr>\n",
       "      <th>2</th>\n",
       "      <td>support</td>\n",
       "      <td>0</td>\n",
       "      <td>0.722548</td>\n",
       "      <td>3</td>\n",
       "      <td>medium</td>\n",
       "      <td>6.0</td>\n",
       "      <td>0.446823</td>\n",
       "      <td>0</td>\n",
       "      <td>184.416084</td>\n",
       "      <td>no</td>\n",
       "    </tr>\n",
       "    <tr>\n",
       "      <th>3</th>\n",
       "      <td>logistics</td>\n",
       "      <td>0</td>\n",
       "      <td>0.675158</td>\n",
       "      <td>4</td>\n",
       "      <td>high</td>\n",
       "      <td>8.0</td>\n",
       "      <td>0.440139</td>\n",
       "      <td>0</td>\n",
       "      <td>188.707545</td>\n",
       "      <td>no</td>\n",
       "    </tr>\n",
       "    <tr>\n",
       "      <th>4</th>\n",
       "      <td>sales</td>\n",
       "      <td>0</td>\n",
       "      <td>0.676203</td>\n",
       "      <td>3</td>\n",
       "      <td>high</td>\n",
       "      <td>5.0</td>\n",
       "      <td>0.577607</td>\n",
       "      <td>1</td>\n",
       "      <td>179.821083</td>\n",
       "      <td>no</td>\n",
       "    </tr>\n",
       "  </tbody>\n",
       "</table>\n",
       "</div>"
      ],
      "text/plain": [
       "   department  promoted    review  projects  salary  tenure  satisfaction  \\\n",
       "0  operations         0  0.577569         3     low     5.0      0.626759   \n",
       "1  operations         0  0.751900         3  medium     6.0      0.443679   \n",
       "2     support         0  0.722548         3  medium     6.0      0.446823   \n",
       "3   logistics         0  0.675158         4    high     8.0      0.440139   \n",
       "4       sales         0  0.676203         3    high     5.0      0.577607   \n",
       "\n",
       "   bonus  avg_hrs_month left  \n",
       "0      0     180.866070   no  \n",
       "1      0     182.708149   no  \n",
       "2      0     184.416084   no  \n",
       "3      0     188.707545   no  \n",
       "4      1     179.821083   no  "
      ]
     },
     "execution_count": 3,
     "metadata": {},
     "output_type": "execute_result"
    }
   ],
   "source": [
    "data.head()"
   ]
  },
  {
   "cell_type": "code",
   "execution_count": 4,
   "id": "0420bb6b",
   "metadata": {},
   "outputs": [
    {
     "data": {
      "text/html": [
       "<div>\n",
       "<style scoped>\n",
       "    .dataframe tbody tr th:only-of-type {\n",
       "        vertical-align: middle;\n",
       "    }\n",
       "\n",
       "    .dataframe tbody tr th {\n",
       "        vertical-align: top;\n",
       "    }\n",
       "\n",
       "    .dataframe thead th {\n",
       "        text-align: right;\n",
       "    }\n",
       "</style>\n",
       "<table border=\"1\" class=\"dataframe\">\n",
       "  <thead>\n",
       "    <tr style=\"text-align: right;\">\n",
       "      <th></th>\n",
       "      <th>department</th>\n",
       "      <th>promoted</th>\n",
       "      <th>review</th>\n",
       "      <th>projects</th>\n",
       "      <th>salary</th>\n",
       "      <th>tenure</th>\n",
       "      <th>satisfaction</th>\n",
       "      <th>bonus</th>\n",
       "      <th>avg_hrs_month</th>\n",
       "      <th>left</th>\n",
       "    </tr>\n",
       "  </thead>\n",
       "  <tbody>\n",
       "    <tr>\n",
       "      <th>9535</th>\n",
       "      <td>operations</td>\n",
       "      <td>0</td>\n",
       "      <td>0.610988</td>\n",
       "      <td>4</td>\n",
       "      <td>medium</td>\n",
       "      <td>8.0</td>\n",
       "      <td>0.543641</td>\n",
       "      <td>0</td>\n",
       "      <td>188.155738</td>\n",
       "      <td>yes</td>\n",
       "    </tr>\n",
       "    <tr>\n",
       "      <th>9536</th>\n",
       "      <td>logistics</td>\n",
       "      <td>0</td>\n",
       "      <td>0.746887</td>\n",
       "      <td>3</td>\n",
       "      <td>medium</td>\n",
       "      <td>8.0</td>\n",
       "      <td>0.549048</td>\n",
       "      <td>0</td>\n",
       "      <td>188.176164</td>\n",
       "      <td>yes</td>\n",
       "    </tr>\n",
       "    <tr>\n",
       "      <th>9537</th>\n",
       "      <td>operations</td>\n",
       "      <td>0</td>\n",
       "      <td>0.557980</td>\n",
       "      <td>3</td>\n",
       "      <td>low</td>\n",
       "      <td>7.0</td>\n",
       "      <td>0.705425</td>\n",
       "      <td>0</td>\n",
       "      <td>186.531008</td>\n",
       "      <td>yes</td>\n",
       "    </tr>\n",
       "    <tr>\n",
       "      <th>9538</th>\n",
       "      <td>IT</td>\n",
       "      <td>0</td>\n",
       "      <td>0.584446</td>\n",
       "      <td>4</td>\n",
       "      <td>medium</td>\n",
       "      <td>8.0</td>\n",
       "      <td>0.607287</td>\n",
       "      <td>1</td>\n",
       "      <td>187.641370</td>\n",
       "      <td>yes</td>\n",
       "    </tr>\n",
       "    <tr>\n",
       "      <th>9539</th>\n",
       "      <td>finance</td>\n",
       "      <td>0</td>\n",
       "      <td>0.626373</td>\n",
       "      <td>3</td>\n",
       "      <td>low</td>\n",
       "      <td>7.0</td>\n",
       "      <td>0.706455</td>\n",
       "      <td>1</td>\n",
       "      <td>185.920934</td>\n",
       "      <td>yes</td>\n",
       "    </tr>\n",
       "  </tbody>\n",
       "</table>\n",
       "</div>"
      ],
      "text/plain": [
       "      department  promoted    review  projects  salary  tenure  satisfaction  \\\n",
       "9535  operations         0  0.610988         4  medium     8.0      0.543641   \n",
       "9536   logistics         0  0.746887         3  medium     8.0      0.549048   \n",
       "9537  operations         0  0.557980         3     low     7.0      0.705425   \n",
       "9538          IT         0  0.584446         4  medium     8.0      0.607287   \n",
       "9539     finance         0  0.626373         3     low     7.0      0.706455   \n",
       "\n",
       "      bonus  avg_hrs_month left  \n",
       "9535      0     188.155738  yes  \n",
       "9536      0     188.176164  yes  \n",
       "9537      0     186.531008  yes  \n",
       "9538      1     187.641370  yes  \n",
       "9539      1     185.920934  yes  "
      ]
     },
     "execution_count": 4,
     "metadata": {},
     "output_type": "execute_result"
    }
   ],
   "source": [
    "data.tail()"
   ]
  },
  {
   "cell_type": "code",
   "execution_count": 5,
   "id": "34e26804",
   "metadata": {},
   "outputs": [
    {
     "data": {
      "text/plain": [
       "(9540, 10)"
      ]
     },
     "execution_count": 5,
     "metadata": {},
     "output_type": "execute_result"
    }
   ],
   "source": [
    "data.shape"
   ]
  },
  {
   "cell_type": "code",
   "execution_count": 6,
   "id": "1043972f",
   "metadata": {},
   "outputs": [
    {
     "data": {
      "text/plain": [
       "Index(['department', 'promoted', 'review', 'projects', 'salary', 'tenure',\n",
       "       'satisfaction', 'bonus', 'avg_hrs_month', 'left'],\n",
       "      dtype='object')"
      ]
     },
     "execution_count": 6,
     "metadata": {},
     "output_type": "execute_result"
    }
   ],
   "source": [
    "data.columns"
   ]
  },
  {
   "cell_type": "code",
   "execution_count": 7,
   "id": "1e51fe41",
   "metadata": {},
   "outputs": [
    {
     "data": {
      "text/plain": [
       "department        object\n",
       "promoted           int64\n",
       "review           float64\n",
       "projects           int64\n",
       "salary            object\n",
       "tenure           float64\n",
       "satisfaction     float64\n",
       "bonus              int64\n",
       "avg_hrs_month    float64\n",
       "left              object\n",
       "dtype: object"
      ]
     },
     "execution_count": 7,
     "metadata": {},
     "output_type": "execute_result"
    }
   ],
   "source": [
    "data.dtypes"
   ]
  },
  {
   "cell_type": "code",
   "execution_count": 8,
   "id": "44559924",
   "metadata": {},
   "outputs": [
    {
     "data": {
      "text/plain": [
       "department       0\n",
       "promoted         0\n",
       "review           0\n",
       "projects         0\n",
       "salary           0\n",
       "tenure           0\n",
       "satisfaction     0\n",
       "bonus            0\n",
       "avg_hrs_month    0\n",
       "left             0\n",
       "dtype: int64"
      ]
     },
     "execution_count": 8,
     "metadata": {},
     "output_type": "execute_result"
    }
   ],
   "source": [
    "data.isnull().sum()"
   ]
  },
  {
   "cell_type": "code",
   "execution_count": 9,
   "id": "89bb5d6f",
   "metadata": {},
   "outputs": [
    {
     "data": {
      "text/plain": [
       "no     6756\n",
       "yes    2784\n",
       "Name: left, dtype: int64"
      ]
     },
     "execution_count": 9,
     "metadata": {},
     "output_type": "execute_result"
    }
   ],
   "source": [
    "data['left'].value_counts()"
   ]
  },
  {
   "cell_type": "code",
   "execution_count": 10,
   "id": "a5d3e058",
   "metadata": {},
   "outputs": [
    {
     "data": {
      "text/html": [
       "<div>\n",
       "<style scoped>\n",
       "    .dataframe tbody tr th:only-of-type {\n",
       "        vertical-align: middle;\n",
       "    }\n",
       "\n",
       "    .dataframe tbody tr th {\n",
       "        vertical-align: top;\n",
       "    }\n",
       "\n",
       "    .dataframe thead th {\n",
       "        text-align: right;\n",
       "    }\n",
       "</style>\n",
       "<table border=\"1\" class=\"dataframe\">\n",
       "  <thead>\n",
       "    <tr style=\"text-align: right;\">\n",
       "      <th></th>\n",
       "      <th>promoted</th>\n",
       "      <th>review</th>\n",
       "      <th>projects</th>\n",
       "      <th>tenure</th>\n",
       "      <th>satisfaction</th>\n",
       "      <th>bonus</th>\n",
       "      <th>avg_hrs_month</th>\n",
       "    </tr>\n",
       "    <tr>\n",
       "      <th>left</th>\n",
       "      <th></th>\n",
       "      <th></th>\n",
       "      <th></th>\n",
       "      <th></th>\n",
       "      <th></th>\n",
       "      <th></th>\n",
       "      <th></th>\n",
       "    </tr>\n",
       "  </thead>\n",
       "  <tbody>\n",
       "    <tr>\n",
       "      <th>no</th>\n",
       "      <td>0.034340</td>\n",
       "      <td>0.635164</td>\n",
       "      <td>3.279455</td>\n",
       "      <td>6.546625</td>\n",
       "      <td>0.505634</td>\n",
       "      <td>0.215068</td>\n",
       "      <td>184.637605</td>\n",
       "    </tr>\n",
       "    <tr>\n",
       "      <th>yes</th>\n",
       "      <td>0.020474</td>\n",
       "      <td>0.692262</td>\n",
       "      <td>3.263649</td>\n",
       "      <td>6.579382</td>\n",
       "      <td>0.502244</td>\n",
       "      <td>0.204741</td>\n",
       "      <td>184.719730</td>\n",
       "    </tr>\n",
       "  </tbody>\n",
       "</table>\n",
       "</div>"
      ],
      "text/plain": [
       "      promoted    review  projects    tenure  satisfaction     bonus  \\\n",
       "left                                                                   \n",
       "no    0.034340  0.635164  3.279455  6.546625      0.505634  0.215068   \n",
       "yes   0.020474  0.692262  3.263649  6.579382      0.502244  0.204741   \n",
       "\n",
       "      avg_hrs_month  \n",
       "left                 \n",
       "no       184.637605  \n",
       "yes      184.719730  "
      ]
     },
     "execution_count": 10,
     "metadata": {},
     "output_type": "execute_result"
    }
   ],
   "source": [
    "data.groupby('left').mean()"
   ]
  },
  {
   "cell_type": "markdown",
   "id": "c1ffa0d9",
   "metadata": {},
   "source": [
    "### Observations:\n",
    "#### 1. The promoted employees are more likely stays with the company as compared to the employees who left.\n",
    "#### 2. The average satisfaction level of employees who stayed with the company is higher than that of the employees who left.\n",
    "#### 3. The average monthly work hours of employees who left the company is more than that of the employees who stayed.\n",
    "#### 4. The Avearge of employees who did not get bonus is more than that employees who got bonus. "
   ]
  },
  {
   "cell_type": "code",
   "execution_count": 11,
   "id": "bc77e66d",
   "metadata": {},
   "outputs": [
    {
     "data": {
      "text/html": [
       "<div>\n",
       "<style scoped>\n",
       "    .dataframe tbody tr th:only-of-type {\n",
       "        vertical-align: middle;\n",
       "    }\n",
       "\n",
       "    .dataframe tbody tr th {\n",
       "        vertical-align: top;\n",
       "    }\n",
       "\n",
       "    .dataframe thead th {\n",
       "        text-align: right;\n",
       "    }\n",
       "</style>\n",
       "<table border=\"1\" class=\"dataframe\">\n",
       "  <thead>\n",
       "    <tr style=\"text-align: right;\">\n",
       "      <th></th>\n",
       "      <th>promoted</th>\n",
       "      <th>review</th>\n",
       "      <th>projects</th>\n",
       "      <th>tenure</th>\n",
       "      <th>satisfaction</th>\n",
       "      <th>bonus</th>\n",
       "      <th>avg_hrs_month</th>\n",
       "    </tr>\n",
       "    <tr>\n",
       "      <th>department</th>\n",
       "      <th></th>\n",
       "      <th></th>\n",
       "      <th></th>\n",
       "      <th></th>\n",
       "      <th></th>\n",
       "      <th></th>\n",
       "      <th></th>\n",
       "    </tr>\n",
       "  </thead>\n",
       "  <tbody>\n",
       "    <tr>\n",
       "      <th>IT</th>\n",
       "      <td>0.022472</td>\n",
       "      <td>0.647746</td>\n",
       "      <td>3.289326</td>\n",
       "      <td>6.609551</td>\n",
       "      <td>0.515818</td>\n",
       "      <td>0.221910</td>\n",
       "      <td>184.820946</td>\n",
       "    </tr>\n",
       "    <tr>\n",
       "      <th>admin</th>\n",
       "      <td>0.037825</td>\n",
       "      <td>0.647086</td>\n",
       "      <td>3.278960</td>\n",
       "      <td>6.498818</td>\n",
       "      <td>0.519444</td>\n",
       "      <td>0.186761</td>\n",
       "      <td>184.538120</td>\n",
       "    </tr>\n",
       "    <tr>\n",
       "      <th>engineering</th>\n",
       "      <td>0.023087</td>\n",
       "      <td>0.650601</td>\n",
       "      <td>3.263852</td>\n",
       "      <td>6.558047</td>\n",
       "      <td>0.504944</td>\n",
       "      <td>0.211082</td>\n",
       "      <td>184.691962</td>\n",
       "    </tr>\n",
       "    <tr>\n",
       "      <th>finance</th>\n",
       "      <td>0.047264</td>\n",
       "      <td>0.654934</td>\n",
       "      <td>3.293532</td>\n",
       "      <td>6.440299</td>\n",
       "      <td>0.497183</td>\n",
       "      <td>0.231343</td>\n",
       "      <td>184.375116</td>\n",
       "    </tr>\n",
       "    <tr>\n",
       "      <th>logistics</th>\n",
       "      <td>0.019444</td>\n",
       "      <td>0.654374</td>\n",
       "      <td>3.275000</td>\n",
       "      <td>6.527778</td>\n",
       "      <td>0.493084</td>\n",
       "      <td>0.208333</td>\n",
       "      <td>184.589924</td>\n",
       "    </tr>\n",
       "    <tr>\n",
       "      <th>marketing</th>\n",
       "      <td>0.042394</td>\n",
       "      <td>0.657694</td>\n",
       "      <td>3.280549</td>\n",
       "      <td>6.503741</td>\n",
       "      <td>0.502411</td>\n",
       "      <td>0.219451</td>\n",
       "      <td>184.469963</td>\n",
       "    </tr>\n",
       "    <tr>\n",
       "      <th>operations</th>\n",
       "      <td>0.029566</td>\n",
       "      <td>0.653397</td>\n",
       "      <td>3.271353</td>\n",
       "      <td>6.608410</td>\n",
       "      <td>0.504620</td>\n",
       "      <td>0.206965</td>\n",
       "      <td>184.812006</td>\n",
       "    </tr>\n",
       "    <tr>\n",
       "      <th>retail</th>\n",
       "      <td>0.033744</td>\n",
       "      <td>0.650152</td>\n",
       "      <td>3.266061</td>\n",
       "      <td>6.591175</td>\n",
       "      <td>0.502769</td>\n",
       "      <td>0.218689</td>\n",
       "      <td>184.735075</td>\n",
       "    </tr>\n",
       "    <tr>\n",
       "      <th>sales</th>\n",
       "      <td>0.026553</td>\n",
       "      <td>0.651631</td>\n",
       "      <td>3.286245</td>\n",
       "      <td>6.535847</td>\n",
       "      <td>0.504520</td>\n",
       "      <td>0.211896</td>\n",
       "      <td>184.616739</td>\n",
       "    </tr>\n",
       "    <tr>\n",
       "      <th>support</th>\n",
       "      <td>0.031293</td>\n",
       "      <td>0.650467</td>\n",
       "      <td>3.268027</td>\n",
       "      <td>6.564626</td>\n",
       "      <td>0.506579</td>\n",
       "      <td>0.204082</td>\n",
       "      <td>184.642816</td>\n",
       "    </tr>\n",
       "  </tbody>\n",
       "</table>\n",
       "</div>"
      ],
      "text/plain": [
       "             promoted    review  projects    tenure  satisfaction     bonus  \\\n",
       "department                                                                    \n",
       "IT           0.022472  0.647746  3.289326  6.609551      0.515818  0.221910   \n",
       "admin        0.037825  0.647086  3.278960  6.498818      0.519444  0.186761   \n",
       "engineering  0.023087  0.650601  3.263852  6.558047      0.504944  0.211082   \n",
       "finance      0.047264  0.654934  3.293532  6.440299      0.497183  0.231343   \n",
       "logistics    0.019444  0.654374  3.275000  6.527778      0.493084  0.208333   \n",
       "marketing    0.042394  0.657694  3.280549  6.503741      0.502411  0.219451   \n",
       "operations   0.029566  0.653397  3.271353  6.608410      0.504620  0.206965   \n",
       "retail       0.033744  0.650152  3.266061  6.591175      0.502769  0.218689   \n",
       "sales        0.026553  0.651631  3.286245  6.535847      0.504520  0.211896   \n",
       "support      0.031293  0.650467  3.268027  6.564626      0.506579  0.204082   \n",
       "\n",
       "             avg_hrs_month  \n",
       "department                  \n",
       "IT              184.820946  \n",
       "admin           184.538120  \n",
       "engineering     184.691962  \n",
       "finance         184.375116  \n",
       "logistics       184.589924  \n",
       "marketing       184.469963  \n",
       "operations      184.812006  \n",
       "retail          184.735075  \n",
       "sales           184.616739  \n",
       "support         184.642816  "
      ]
     },
     "execution_count": 11,
     "metadata": {},
     "output_type": "execute_result"
    }
   ],
   "source": [
    "data.groupby('department').mean()"
   ]
  },
  {
   "cell_type": "code",
   "execution_count": 12,
   "id": "38999cef",
   "metadata": {},
   "outputs": [
    {
     "data": {
      "text/html": [
       "<div>\n",
       "<style scoped>\n",
       "    .dataframe tbody tr th:only-of-type {\n",
       "        vertical-align: middle;\n",
       "    }\n",
       "\n",
       "    .dataframe tbody tr th {\n",
       "        vertical-align: top;\n",
       "    }\n",
       "\n",
       "    .dataframe thead th {\n",
       "        text-align: right;\n",
       "    }\n",
       "</style>\n",
       "<table border=\"1\" class=\"dataframe\">\n",
       "  <thead>\n",
       "    <tr style=\"text-align: right;\">\n",
       "      <th></th>\n",
       "      <th>promoted</th>\n",
       "      <th>review</th>\n",
       "      <th>projects</th>\n",
       "      <th>tenure</th>\n",
       "      <th>satisfaction</th>\n",
       "      <th>bonus</th>\n",
       "      <th>avg_hrs_month</th>\n",
       "    </tr>\n",
       "    <tr>\n",
       "      <th>salary</th>\n",
       "      <th></th>\n",
       "      <th></th>\n",
       "      <th></th>\n",
       "      <th></th>\n",
       "      <th></th>\n",
       "      <th></th>\n",
       "      <th></th>\n",
       "    </tr>\n",
       "  </thead>\n",
       "  <tbody>\n",
       "    <tr>\n",
       "      <th>high</th>\n",
       "      <td>0.029716</td>\n",
       "      <td>0.651642</td>\n",
       "      <td>3.260336</td>\n",
       "      <td>6.580749</td>\n",
       "      <td>0.502463</td>\n",
       "      <td>0.213824</td>\n",
       "      <td>184.766428</td>\n",
       "    </tr>\n",
       "    <tr>\n",
       "      <th>low</th>\n",
       "      <td>0.028965</td>\n",
       "      <td>0.652816</td>\n",
       "      <td>3.304852</td>\n",
       "      <td>6.556119</td>\n",
       "      <td>0.504934</td>\n",
       "      <td>0.225199</td>\n",
       "      <td>184.657057</td>\n",
       "    </tr>\n",
       "    <tr>\n",
       "      <th>medium</th>\n",
       "      <td>0.030706</td>\n",
       "      <td>0.651663</td>\n",
       "      <td>3.271971</td>\n",
       "      <td>6.550446</td>\n",
       "      <td>0.505095</td>\n",
       "      <td>0.208894</td>\n",
       "      <td>184.637961</td>\n",
       "    </tr>\n",
       "  </tbody>\n",
       "</table>\n",
       "</div>"
      ],
      "text/plain": [
       "        promoted    review  projects    tenure  satisfaction     bonus  \\\n",
       "salary                                                                   \n",
       "high    0.029716  0.651642  3.260336  6.580749      0.502463  0.213824   \n",
       "low     0.028965  0.652816  3.304852  6.556119      0.504934  0.225199   \n",
       "medium  0.030706  0.651663  3.271971  6.550446      0.505095  0.208894   \n",
       "\n",
       "        avg_hrs_month  \n",
       "salary                 \n",
       "high       184.766428  \n",
       "low        184.657057  \n",
       "medium     184.637961  "
      ]
     },
     "execution_count": 12,
     "metadata": {},
     "output_type": "execute_result"
    }
   ],
   "source": [
    "data.groupby('salary').mean()"
   ]
  },
  {
   "cell_type": "markdown",
   "id": "68643f69",
   "metadata": {},
   "source": [
    "## Data Visualization"
   ]
  },
  {
   "cell_type": "code",
   "execution_count": 13,
   "id": "02929d41",
   "metadata": {
    "scrolled": true
   },
   "outputs": [
    {
     "data": {
      "image/png": "[encoded data removed]",
      "text/plain": [
       "<Figure size 432x288 with 1 Axes>"
      ]
     },
     "metadata": {
      "needs_background": "light"
     },
     "output_type": "display_data"
    }
   ],
   "source": [
    "pd.crosstab(data.department,data.left).plot(kind='barh')\n",
    "plt.title('Turnover Frequency for Department')\n",
    "plt.ylabel('Department')\n",
    "plt.xlabel('Frequency of Turnover')\n",
    "plt.savefig('department_bar_chart')"
   ]
  },
  {
   "cell_type": "code",
   "execution_count": 14,
   "id": "697daea8",
   "metadata": {},
   "outputs": [
    {
     "data": {
      "image/png": "[encoded data removed]",
      "text/plain": [
       "<Figure size 432x288 with 1 Axes>"
      ]
     },
     "metadata": {
      "needs_background": "light"
     },
     "output_type": "display_data"
    }
   ],
   "source": [
    "pd.crosstab(data.salary,data.left).plot(kind='barh')\n",
    "plt.title('Turnover Frequency for salary level')\n",
    "plt.ylabel('Salary level')\n",
    "plt.xlabel('Frequency of Turnover')\n",
    "plt.savefig('Salary_bar_chart')\n"
   ]
  },
  {
   "cell_type": "code",
   "execution_count": 15,
   "id": "69315038",
   "metadata": {},
   "outputs": [
    {
     "data": {
      "image/png": "[encoded data removed]",
      "text/plain": [
       "<Figure size 432x288 with 1 Axes>"
      ]
     },
     "metadata": {
      "needs_background": "light"
     },
     "output_type": "display_data"
    }
   ],
   "source": [
    "salary_data=pd.crosstab(data.salary, data.left)\n",
    "salary_data.div(salary_data.sum(1).astype(float), axis=0).plot(kind='barh', stacked=True)\n",
    "plt.title('Stacked Bar chart- Turnover vs Salary level')\n",
    "plt.ylabel('Salary level')\n",
    "plt.xlabel('Proportion of Employees')\n",
    "plt.savefig('Salary_bar_chart')"
   ]
  },
  {
   "cell_type": "code",
   "execution_count": 16,
   "id": "93faf7e2",
   "metadata": {},
   "outputs": [
    {
     "data": {
      "image/png": "[encoded data removed]",
      "text/plain": [
       "<Figure size 1080x720 with 9 Axes>"
      ]
     },
     "metadata": {
      "needs_background": "light"
     },
     "output_type": "display_data"
    }
   ],
   "source": [
    "num_bins = 10\n",
    "data.hist(bins=num_bins, figsize=(15,10))\n",
    "plt.savefig(\"data_histogram_plots\")\n",
    "plt.show()"
   ]
  },
  {
   "cell_type": "markdown",
   "id": "7e25b27d",
   "metadata": {},
   "source": [
    " ### Observation:\n",
    "  #### 1. Very few employees got Promotion\n",
    "  #### 2. Most of the employees are working on 3-4 projects. Very few employees worked on 2 & 5 no. of projects. \n",
    "  #### 3. No. of Employees with less than 5 years Tenure & more than 8 years tenure are less.There is huge drop between 8 years to  12 years tenure.\n",
    "  #### 4. Very few employees got Bonus."
   ]
  },
  {
   "cell_type": "code",
   "execution_count": 17,
   "id": "6ca42ed0",
   "metadata": {
    "scrolled": true
   },
   "outputs": [
    {
     "data": {
      "text/html": [
       "<div>\n",
       "<style scoped>\n",
       "    .dataframe tbody tr th:only-of-type {\n",
       "        vertical-align: middle;\n",
       "    }\n",
       "\n",
       "    .dataframe tbody tr th {\n",
       "        vertical-align: top;\n",
       "    }\n",
       "\n",
       "    .dataframe thead th {\n",
       "        text-align: right;\n",
       "    }\n",
       "</style>\n",
       "<table border=\"1\" class=\"dataframe\">\n",
       "  <thead>\n",
       "    <tr style=\"text-align: right;\">\n",
       "      <th></th>\n",
       "      <th>department</th>\n",
       "      <th>promoted</th>\n",
       "      <th>review</th>\n",
       "      <th>projects</th>\n",
       "      <th>salary</th>\n",
       "      <th>tenure</th>\n",
       "      <th>satisfaction</th>\n",
       "      <th>bonus</th>\n",
       "      <th>avg_hrs_month</th>\n",
       "      <th>left</th>\n",
       "    </tr>\n",
       "  </thead>\n",
       "  <tbody>\n",
       "    <tr>\n",
       "      <th>0</th>\n",
       "      <td>operations</td>\n",
       "      <td>0</td>\n",
       "      <td>0.577569</td>\n",
       "      <td>3</td>\n",
       "      <td>1</td>\n",
       "      <td>5.0</td>\n",
       "      <td>0.626759</td>\n",
       "      <td>0</td>\n",
       "      <td>180.866070</td>\n",
       "      <td>no</td>\n",
       "    </tr>\n",
       "    <tr>\n",
       "      <th>1</th>\n",
       "      <td>operations</td>\n",
       "      <td>0</td>\n",
       "      <td>0.751900</td>\n",
       "      <td>3</td>\n",
       "      <td>2</td>\n",
       "      <td>6.0</td>\n",
       "      <td>0.443679</td>\n",
       "      <td>0</td>\n",
       "      <td>182.708149</td>\n",
       "      <td>no</td>\n",
       "    </tr>\n",
       "    <tr>\n",
       "      <th>2</th>\n",
       "      <td>support</td>\n",
       "      <td>0</td>\n",
       "      <td>0.722548</td>\n",
       "      <td>3</td>\n",
       "      <td>2</td>\n",
       "      <td>6.0</td>\n",
       "      <td>0.446823</td>\n",
       "      <td>0</td>\n",
       "      <td>184.416084</td>\n",
       "      <td>no</td>\n",
       "    </tr>\n",
       "    <tr>\n",
       "      <th>3</th>\n",
       "      <td>logistics</td>\n",
       "      <td>0</td>\n",
       "      <td>0.675158</td>\n",
       "      <td>4</td>\n",
       "      <td>3</td>\n",
       "      <td>8.0</td>\n",
       "      <td>0.440139</td>\n",
       "      <td>0</td>\n",
       "      <td>188.707545</td>\n",
       "      <td>no</td>\n",
       "    </tr>\n",
       "    <tr>\n",
       "      <th>4</th>\n",
       "      <td>sales</td>\n",
       "      <td>0</td>\n",
       "      <td>0.676203</td>\n",
       "      <td>3</td>\n",
       "      <td>3</td>\n",
       "      <td>5.0</td>\n",
       "      <td>0.577607</td>\n",
       "      <td>1</td>\n",
       "      <td>179.821083</td>\n",
       "      <td>no</td>\n",
       "    </tr>\n",
       "    <tr>\n",
       "      <th>...</th>\n",
       "      <td>...</td>\n",
       "      <td>...</td>\n",
       "      <td>...</td>\n",
       "      <td>...</td>\n",
       "      <td>...</td>\n",
       "      <td>...</td>\n",
       "      <td>...</td>\n",
       "      <td>...</td>\n",
       "      <td>...</td>\n",
       "      <td>...</td>\n",
       "    </tr>\n",
       "    <tr>\n",
       "      <th>9535</th>\n",
       "      <td>operations</td>\n",
       "      <td>0</td>\n",
       "      <td>0.610988</td>\n",
       "      <td>4</td>\n",
       "      <td>2</td>\n",
       "      <td>8.0</td>\n",
       "      <td>0.543641</td>\n",
       "      <td>0</td>\n",
       "      <td>188.155738</td>\n",
       "      <td>yes</td>\n",
       "    </tr>\n",
       "    <tr>\n",
       "      <th>9536</th>\n",
       "      <td>logistics</td>\n",
       "      <td>0</td>\n",
       "      <td>0.746887</td>\n",
       "      <td>3</td>\n",
       "      <td>2</td>\n",
       "      <td>8.0</td>\n",
       "      <td>0.549048</td>\n",
       "      <td>0</td>\n",
       "      <td>188.176164</td>\n",
       "      <td>yes</td>\n",
       "    </tr>\n",
       "    <tr>\n",
       "      <th>9537</th>\n",
       "      <td>operations</td>\n",
       "      <td>0</td>\n",
       "      <td>0.557980</td>\n",
       "      <td>3</td>\n",
       "      <td>1</td>\n",
       "      <td>7.0</td>\n",
       "      <td>0.705425</td>\n",
       "      <td>0</td>\n",
       "      <td>186.531008</td>\n",
       "      <td>yes</td>\n",
       "    </tr>\n",
       "    <tr>\n",
       "      <th>9538</th>\n",
       "      <td>IT</td>\n",
       "      <td>0</td>\n",
       "      <td>0.584446</td>\n",
       "      <td>4</td>\n",
       "      <td>2</td>\n",
       "      <td>8.0</td>\n",
       "      <td>0.607287</td>\n",
       "      <td>1</td>\n",
       "      <td>187.641370</td>\n",
       "      <td>yes</td>\n",
       "    </tr>\n",
       "    <tr>\n",
       "      <th>9539</th>\n",
       "      <td>finance</td>\n",
       "      <td>0</td>\n",
       "      <td>0.626373</td>\n",
       "      <td>3</td>\n",
       "      <td>1</td>\n",
       "      <td>7.0</td>\n",
       "      <td>0.706455</td>\n",
       "      <td>1</td>\n",
       "      <td>185.920934</td>\n",
       "      <td>yes</td>\n",
       "    </tr>\n",
       "  </tbody>\n",
       "</table>\n",
       "<p>9540 rows × 10 columns</p>\n",
       "</div>"
      ],
      "text/plain": [
       "      department  promoted    review  projects  salary  tenure  satisfaction  \\\n",
       "0     operations         0  0.577569         3       1     5.0      0.626759   \n",
       "1     operations         0  0.751900         3       2     6.0      0.443679   \n",
       "2        support         0  0.722548         3       2     6.0      0.446823   \n",
       "3      logistics         0  0.675158         4       3     8.0      0.440139   \n",
       "4          sales         0  0.676203         3       3     5.0      0.577607   \n",
       "...          ...       ...       ...       ...     ...     ...           ...   \n",
       "9535  operations         0  0.610988         4       2     8.0      0.543641   \n",
       "9536   logistics         0  0.746887         3       2     8.0      0.549048   \n",
       "9537  operations         0  0.557980         3       1     7.0      0.705425   \n",
       "9538          IT         0  0.584446         4       2     8.0      0.607287   \n",
       "9539     finance         0  0.626373         3       1     7.0      0.706455   \n",
       "\n",
       "      bonus  avg_hrs_month left  \n",
       "0         0     180.866070   no  \n",
       "1         0     182.708149   no  \n",
       "2         0     184.416084   no  \n",
       "3         0     188.707545   no  \n",
       "4         1     179.821083   no  \n",
       "...     ...            ...  ...  \n",
       "9535      0     188.155738  yes  \n",
       "9536      0     188.176164  yes  \n",
       "9537      0     186.531008  yes  \n",
       "9538      1     187.641370  yes  \n",
       "9539      1     185.920934  yes  \n",
       "\n",
       "[9540 rows x 10 columns]"
      ]
     },
     "execution_count": 17,
     "metadata": {},
     "output_type": "execute_result"
    }
   ],
   "source": [
    "#Assigning Low=1, Medium= 2, High=3 for data in column 'salary'\n",
    "data['salary'] = data['salary'].map(\n",
    "                   {'low':1 ,'medium':2, 'high':3})\n",
    "  \n",
    "# show the dataframe\n",
    "data"
   ]
  },
  {
   "cell_type": "code",
   "execution_count": 18,
   "id": "1594d436",
   "metadata": {
    "scrolled": true
   },
   "outputs": [
    {
     "data": {
      "text/html": [
       "<div>\n",
       "<style scoped>\n",
       "    .dataframe tbody tr th:only-of-type {\n",
       "        vertical-align: middle;\n",
       "    }\n",
       "\n",
       "    .dataframe tbody tr th {\n",
       "        vertical-align: top;\n",
       "    }\n",
       "\n",
       "    .dataframe thead th {\n",
       "        text-align: right;\n",
       "    }\n",
       "</style>\n",
       "<table border=\"1\" class=\"dataframe\">\n",
       "  <thead>\n",
       "    <tr style=\"text-align: right;\">\n",
       "      <th></th>\n",
       "      <th>department</th>\n",
       "      <th>promoted</th>\n",
       "      <th>review</th>\n",
       "      <th>projects</th>\n",
       "      <th>salary</th>\n",
       "      <th>tenure</th>\n",
       "      <th>satisfaction</th>\n",
       "      <th>bonus</th>\n",
       "      <th>avg_hrs_month</th>\n",
       "      <th>left</th>\n",
       "    </tr>\n",
       "  </thead>\n",
       "  <tbody>\n",
       "    <tr>\n",
       "      <th>0</th>\n",
       "      <td>operations</td>\n",
       "      <td>0</td>\n",
       "      <td>0.577569</td>\n",
       "      <td>3</td>\n",
       "      <td>1</td>\n",
       "      <td>5.0</td>\n",
       "      <td>0.626759</td>\n",
       "      <td>0</td>\n",
       "      <td>180.866070</td>\n",
       "      <td>2</td>\n",
       "    </tr>\n",
       "    <tr>\n",
       "      <th>1</th>\n",
       "      <td>operations</td>\n",
       "      <td>0</td>\n",
       "      <td>0.751900</td>\n",
       "      <td>3</td>\n",
       "      <td>2</td>\n",
       "      <td>6.0</td>\n",
       "      <td>0.443679</td>\n",
       "      <td>0</td>\n",
       "      <td>182.708149</td>\n",
       "      <td>2</td>\n",
       "    </tr>\n",
       "    <tr>\n",
       "      <th>2</th>\n",
       "      <td>support</td>\n",
       "      <td>0</td>\n",
       "      <td>0.722548</td>\n",
       "      <td>3</td>\n",
       "      <td>2</td>\n",
       "      <td>6.0</td>\n",
       "      <td>0.446823</td>\n",
       "      <td>0</td>\n",
       "      <td>184.416084</td>\n",
       "      <td>2</td>\n",
       "    </tr>\n",
       "    <tr>\n",
       "      <th>3</th>\n",
       "      <td>logistics</td>\n",
       "      <td>0</td>\n",
       "      <td>0.675158</td>\n",
       "      <td>4</td>\n",
       "      <td>3</td>\n",
       "      <td>8.0</td>\n",
       "      <td>0.440139</td>\n",
       "      <td>0</td>\n",
       "      <td>188.707545</td>\n",
       "      <td>2</td>\n",
       "    </tr>\n",
       "    <tr>\n",
       "      <th>4</th>\n",
       "      <td>sales</td>\n",
       "      <td>0</td>\n",
       "      <td>0.676203</td>\n",
       "      <td>3</td>\n",
       "      <td>3</td>\n",
       "      <td>5.0</td>\n",
       "      <td>0.577607</td>\n",
       "      <td>1</td>\n",
       "      <td>179.821083</td>\n",
       "      <td>2</td>\n",
       "    </tr>\n",
       "    <tr>\n",
       "      <th>...</th>\n",
       "      <td>...</td>\n",
       "      <td>...</td>\n",
       "      <td>...</td>\n",
       "      <td>...</td>\n",
       "      <td>...</td>\n",
       "      <td>...</td>\n",
       "      <td>...</td>\n",
       "      <td>...</td>\n",
       "      <td>...</td>\n",
       "      <td>...</td>\n",
       "    </tr>\n",
       "    <tr>\n",
       "      <th>9535</th>\n",
       "      <td>operations</td>\n",
       "      <td>0</td>\n",
       "      <td>0.610988</td>\n",
       "      <td>4</td>\n",
       "      <td>2</td>\n",
       "      <td>8.0</td>\n",
       "      <td>0.543641</td>\n",
       "      <td>0</td>\n",
       "      <td>188.155738</td>\n",
       "      <td>1</td>\n",
       "    </tr>\n",
       "    <tr>\n",
       "      <th>9536</th>\n",
       "      <td>logistics</td>\n",
       "      <td>0</td>\n",
       "      <td>0.746887</td>\n",
       "      <td>3</td>\n",
       "      <td>2</td>\n",
       "      <td>8.0</td>\n",
       "      <td>0.549048</td>\n",
       "      <td>0</td>\n",
       "      <td>188.176164</td>\n",
       "      <td>1</td>\n",
       "    </tr>\n",
       "    <tr>\n",
       "      <th>9537</th>\n",
       "      <td>operations</td>\n",
       "      <td>0</td>\n",
       "      <td>0.557980</td>\n",
       "      <td>3</td>\n",
       "      <td>1</td>\n",
       "      <td>7.0</td>\n",
       "      <td>0.705425</td>\n",
       "      <td>0</td>\n",
       "      <td>186.531008</td>\n",
       "      <td>1</td>\n",
       "    </tr>\n",
       "    <tr>\n",
       "      <th>9538</th>\n",
       "      <td>IT</td>\n",
       "      <td>0</td>\n",
       "      <td>0.584446</td>\n",
       "      <td>4</td>\n",
       "      <td>2</td>\n",
       "      <td>8.0</td>\n",
       "      <td>0.607287</td>\n",
       "      <td>1</td>\n",
       "      <td>187.641370</td>\n",
       "      <td>1</td>\n",
       "    </tr>\n",
       "    <tr>\n",
       "      <th>9539</th>\n",
       "      <td>finance</td>\n",
       "      <td>0</td>\n",
       "      <td>0.626373</td>\n",
       "      <td>3</td>\n",
       "      <td>1</td>\n",
       "      <td>7.0</td>\n",
       "      <td>0.706455</td>\n",
       "      <td>1</td>\n",
       "      <td>185.920934</td>\n",
       "      <td>1</td>\n",
       "    </tr>\n",
       "  </tbody>\n",
       "</table>\n",
       "<p>9540 rows × 10 columns</p>\n",
       "</div>"
      ],
      "text/plain": [
       "      department  promoted    review  projects  salary  tenure  satisfaction  \\\n",
       "0     operations         0  0.577569         3       1     5.0      0.626759   \n",
       "1     operations         0  0.751900         3       2     6.0      0.443679   \n",
       "2        support         0  0.722548         3       2     6.0      0.446823   \n",
       "3      logistics         0  0.675158         4       3     8.0      0.440139   \n",
       "4          sales         0  0.676203         3       3     5.0      0.577607   \n",
       "...          ...       ...       ...       ...     ...     ...           ...   \n",
       "9535  operations         0  0.610988         4       2     8.0      0.543641   \n",
       "9536   logistics         0  0.746887         3       2     8.0      0.549048   \n",
       "9537  operations         0  0.557980         3       1     7.0      0.705425   \n",
       "9538          IT         0  0.584446         4       2     8.0      0.607287   \n",
       "9539     finance         0  0.626373         3       1     7.0      0.706455   \n",
       "\n",
       "      bonus  avg_hrs_month  left  \n",
       "0         0     180.866070     2  \n",
       "1         0     182.708149     2  \n",
       "2         0     184.416084     2  \n",
       "3         0     188.707545     2  \n",
       "4         1     179.821083     2  \n",
       "...     ...            ...   ...  \n",
       "9535      0     188.155738     1  \n",
       "9536      0     188.176164     1  \n",
       "9537      0     186.531008     1  \n",
       "9538      1     187.641370     1  \n",
       "9539      1     185.920934     1  \n",
       "\n",
       "[9540 rows x 10 columns]"
      ]
     },
     "execution_count": 18,
     "metadata": {},
     "output_type": "execute_result"
    }
   ],
   "source": [
    "#Assigning Yes=1, No= 0 for column 'left'\n",
    "data['left'] = data['left'].map(\n",
    "                   {'yes':1 ,'no':2})\n",
    "  \n",
    "# show the dataframe\n",
    "data"
   ]
  },
  {
   "cell_type": "markdown",
   "id": "6f01f43e",
   "metadata": {},
   "source": [
    "### Analysis on the basis of Tenure & No.of Projects"
   ]
  },
  {
   "cell_type": "code",
   "execution_count": 19,
   "id": "d7754943",
   "metadata": {},
   "outputs": [],
   "source": [
    "#import module\n",
    "from sklearn.cluster import KMeans\n",
    "# Filter data\n",
    "left_emp =  data[['tenure', 'projects']][data.left == 1]\n",
    "# Create groups using K-means clustering.\n",
    "kmeans = KMeans(n_clusters = 2, random_state = 0).fit(left_emp)\n"
   ]
  },
  {
   "cell_type": "code",
   "execution_count": 20,
   "id": "72128fb3",
   "metadata": {
    "scrolled": false
   },
   "outputs": [
    {
     "data": {
      "image/png": "[encoded data removed]",
      "text/plain": [
       "<Figure size 432x288 with 1 Axes>"
      ]
     },
     "metadata": {
      "needs_background": "light"
     },
     "output_type": "display_data"
    }
   ],
   "source": [
    "left_emp['label'] = kmeans.labels_\n",
    "# Draw scatter plot\n",
    "plt.scatter(left_emp['projects'],left_emp['tenure'], c=left_emp['label'],cmap='Accent')\n",
    "plt.ylabel('tenure')\n",
    "plt.xlabel('projects')\n",
    "plt.title('2 Clusters of employees who left')\n",
    "plt.show()"
   ]
  },
  {
   "cell_type": "markdown",
   "id": "44fc980c",
   "metadata": {},
   "source": [
    "#### Observation: Employees with 3-4 projects & tenure less than 6 years (Shaded by green color in the graph)  are more likely to leave company."
   ]
  },
  {
   "cell_type": "markdown",
   "id": "9a3ff9a7",
   "metadata": {},
   "source": [
    "### Analysis on the basis of Tenure"
   ]
  },
  {
   "cell_type": "code",
   "execution_count": 21,
   "id": "f4ebd238",
   "metadata": {},
   "outputs": [],
   "source": [
    "left_emp =  data[['tenure', 'left']][data.left == 1]\n",
    "# Create groups using K-means clustering.\n",
    "kmeans = KMeans(n_clusters = 2, random_state = 1).fit(left_emp)"
   ]
  },
  {
   "cell_type": "code",
   "execution_count": 22,
   "id": "bb1157c2",
   "metadata": {
    "scrolled": true
   },
   "outputs": [
    {
     "data": {
      "image/png": "[encoded data removed]",
      "text/plain": [
       "<Figure size 432x288 with 1 Axes>"
      ]
     },
     "metadata": {
      "needs_background": "light"
     },
     "output_type": "display_data"
    }
   ],
   "source": [
    "left_emp['label'] = kmeans.labels_\n",
    "# Draw scatter plot\n",
    "plt.scatter(left_emp['tenure'],left_emp['left'], c=left_emp['label'],cmap='Accent')\n",
    "plt.xlabel('tenure')\n",
    "plt.ylabel('left')\n",
    "plt.title('2 Clusters of employees who left')\n",
    "plt.show()"
   ]
  },
  {
   "cell_type": "markdown",
   "id": "1efaa5f5",
   "metadata": {},
   "source": [
    "#### Observation: Employees with tenure less than 6 years (Shaded by green color in the graph) are more likely to leave company."
   ]
  },
  {
   "cell_type": "markdown",
   "id": "7fbebac7",
   "metadata": {},
   "source": [
    "### Analysis on the basis of Promotion & Satisfaction"
   ]
  },
  {
   "cell_type": "code",
   "execution_count": 23,
   "id": "749ab33e",
   "metadata": {},
   "outputs": [],
   "source": [
    "left_emp =  data[['promoted','satisfaction']][data.left == 1]\n",
    "# Create groups using K-means clustering.\n",
    "kmeans = KMeans(n_clusters = 2, random_state = 1).fit(left_emp)"
   ]
  },
  {
   "cell_type": "code",
   "execution_count": 24,
   "id": "a9b4dfef",
   "metadata": {},
   "outputs": [
    {
     "data": {
      "image/png": "[encoded data removed]",
      "text/plain": [
       "<Figure size 432x288 with 1 Axes>"
      ]
     },
     "metadata": {
      "needs_background": "light"
     },
     "output_type": "display_data"
    }
   ],
   "source": [
    "left_emp['label'] = kmeans.labels_\n",
    "# Draw scatter plot\n",
    "plt.scatter(left_emp['promoted'],left_emp['satisfaction'], c=left_emp['label'],cmap='Accent')\n",
    "plt.ylabel('satisfaction')\n",
    "plt.xlabel('promoted')\n",
    "plt.title('2 Clusters of employees who left')\n",
    "plt.show()"
   ]
  },
  {
   "cell_type": "markdown",
   "id": "6f504d06",
   "metadata": {},
   "source": [
    "#### Observation: Employees with No promotion (Shaded by grey color in the graph)  are more likely to leave company."
   ]
  },
  {
   "cell_type": "markdown",
   "id": "1595746d",
   "metadata": {},
   "source": [
    "### Analysis on the basis of Tenure & Salary"
   ]
  },
  {
   "cell_type": "code",
   "execution_count": 25,
   "id": "8fd449c0",
   "metadata": {},
   "outputs": [],
   "source": [
    "left_emp =  data[['tenure','salary']][data.left == 1]\n",
    "# Create groups using K-means clustering.\n",
    "kmeans = KMeans(n_clusters = 2, random_state = 1).fit(left_emp)"
   ]
  },
  {
   "cell_type": "code",
   "execution_count": 26,
   "id": "e9163987",
   "metadata": {},
   "outputs": [
    {
     "data": {
      "image/png": "[encoded data removed]",
      "text/plain": [
       "<Figure size 432x288 with 1 Axes>"
      ]
     },
     "metadata": {
      "needs_background": "light"
     },
     "output_type": "display_data"
    }
   ],
   "source": [
    "left_emp['label'] = kmeans.labels_\n",
    "# Draw scatter plot\n",
    "plt.scatter(left_emp['tenure'],left_emp['salary'], c=left_emp['label'],cmap='Accent')\n",
    "plt.ylabel('salary')\n",
    "plt.xlabel('tenure')\n",
    "plt.title('2 Clusters of employees who left')\n",
    "plt.show()"
   ]
  },
  {
   "cell_type": "markdown",
   "id": "b77c05e8",
   "metadata": {},
   "source": [
    "#### Observation: Employees with Medium salary level & tenure less than 6 years are more likely to leave company."
   ]
  },
  {
   "cell_type": "markdown",
   "id": "23969323",
   "metadata": {},
   "source": [
    "### Analysis on the basis of Average no. of working hours/Month & Satisfaction"
   ]
  },
  {
   "cell_type": "code",
   "execution_count": 27,
   "id": "5646ec91",
   "metadata": {},
   "outputs": [],
   "source": [
    "left_emp =  data[['avg_hrs_month','satisfaction']][data.left == 1]\n",
    "# Create groups using K-means clustering.\n",
    "kmeans = KMeans(n_clusters = 2, random_state = 1).fit(left_emp)"
   ]
  },
  {
   "cell_type": "code",
   "execution_count": 28,
   "id": "55fcfb5a",
   "metadata": {},
   "outputs": [
    {
     "data": {
      "image/png": "[encoded data removed]",
      "text/plain": [
       "<Figure size 432x288 with 1 Axes>"
      ]
     },
     "metadata": {
      "needs_background": "light"
     },
     "output_type": "display_data"
    }
   ],
   "source": [
    "left_emp['label'] = kmeans.labels_\n",
    "# Draw scatter plot\n",
    "plt.scatter(left_emp['avg_hrs_month'],left_emp['satisfaction'], c=left_emp['label'],cmap='Accent')\n",
    "plt.xlabel('avg_hrs_month')\n",
    "plt.ylabel('satisfaction')\n",
    "plt.title('2 Clusters of employees who left')\n",
    "plt.show()"
   ]
  },
  {
   "cell_type": "markdown",
   "id": "25344816",
   "metadata": {},
   "source": [
    "#### Observation: Employees with Average working hours between 175 hrs to 185 hrs are more likely to leave company."
   ]
  },
  {
   "cell_type": "markdown",
   "id": "575940bf",
   "metadata": {},
   "source": [
    "### Analysis on the basis of Average no. of working hours/Month & Salary"
   ]
  },
  {
   "cell_type": "code",
   "execution_count": 29,
   "id": "2898c7e4",
   "metadata": {},
   "outputs": [],
   "source": [
    "left_emp =  data[['avg_hrs_month','salary']][data.left == 1]\n",
    "# Create groups using K-means clustering.\n",
    "kmeans = KMeans(n_clusters = 2, random_state = 1).fit(left_emp)"
   ]
  },
  {
   "cell_type": "code",
   "execution_count": 30,
   "id": "fc879c12",
   "metadata": {
    "scrolled": true
   },
   "outputs": [
    {
     "data": {
      "image/png": "[encoded data removed]",
      "text/plain": [
       "<Figure size 432x288 with 1 Axes>"
      ]
     },
     "metadata": {
      "needs_background": "light"
     },
     "output_type": "display_data"
    }
   ],
   "source": [
    "left_emp['label'] = kmeans.labels_\n",
    "# Draw scatter plot\n",
    "plt.scatter(left_emp['avg_hrs_month'],left_emp['salary'], c=left_emp['label'],cmap='Accent')\n",
    "plt.xlabel('avg_hrs_month')\n",
    "plt.ylabel('salary')\n",
    "plt.title('3 Clusters of employees who left')\n",
    "plt.show()"
   ]
  },
  {
   "cell_type": "markdown",
   "id": "c41aec9a",
   "metadata": {},
   "source": [
    "#### Observation: Employees with Average working hours between 175 to 185 hrs but medium level Salary are more likely to leave company."
   ]
  },
  {
   "cell_type": "markdown",
   "id": "15b6a9d4",
   "metadata": {},
   "source": [
    "### Analysis on the basis of Average no. of working hours/Month"
   ]
  },
  {
   "cell_type": "code",
   "execution_count": 31,
   "id": "821dd69b",
   "metadata": {},
   "outputs": [],
   "source": [
    "left_emp =  data[['avg_hrs_month','left']][data.left == 1]\n",
    "# Create groups using K-means clustering.\n",
    "kmeans = KMeans(n_clusters = 2, random_state = 1).fit(left_emp)"
   ]
  },
  {
   "cell_type": "code",
   "execution_count": 32,
   "id": "9e3480ac",
   "metadata": {
    "scrolled": true
   },
   "outputs": [
    {
     "data": {
      "image/png": "[encoded data removed]",
      "text/plain": [
       "<Figure size 432x288 with 1 Axes>"
      ]
     },
     "metadata": {
      "needs_background": "light"
     },
     "output_type": "display_data"
    }
   ],
   "source": [
    "left_emp['label'] = kmeans.labels_\n",
    "# Draw scatter plot\n",
    "plt.scatter(left_emp['avg_hrs_month'],left_emp['left'], c=left_emp['label'],cmap='Accent')\n",
    "plt.xlabel('avg_hrs_month')\n",
    "plt.ylabel('left')\n",
    "plt.title('2 Clusters of employees who left')\n",
    "plt.show()"
   ]
  },
  {
   "cell_type": "markdown",
   "id": "47097827",
   "metadata": {},
   "source": [
    "#### Observation: Employees with Average working hours between 175 to 185 hrs are more likely to leave company."
   ]
  },
  {
   "cell_type": "markdown",
   "id": "119d89cc",
   "metadata": {},
   "source": [
    "### Analysis on the basis of Reviews"
   ]
  },
  {
   "cell_type": "code",
   "execution_count": 33,
   "id": "49b7a9f6",
   "metadata": {},
   "outputs": [],
   "source": [
    "left_emp =  data[['review','left']][data.left == 1]\n",
    "# Create groups using K-means clustering.\n",
    "kmeans = KMeans(n_clusters = 2, random_state = 1).fit(left_emp)"
   ]
  },
  {
   "cell_type": "code",
   "execution_count": 34,
   "id": "4edd8311",
   "metadata": {},
   "outputs": [
    {
     "data": {
      "image/png": "[encoded data removed]",
      "text/plain": [
       "<Figure size 432x288 with 1 Axes>"
      ]
     },
     "metadata": {
      "needs_background": "light"
     },
     "output_type": "display_data"
    }
   ],
   "source": [
    "left_emp['label'] = kmeans.labels_\n",
    "# Draw scatter plot\n",
    "plt.scatter(left_emp['review'],left_emp['left'], c=left_emp['label'],cmap='Accent')\n",
    "plt.ylabel('left')\n",
    "plt.xlabel('reviews')\n",
    "plt.title('2 Clusters of employees who left')\n",
    "plt.show()"
   ]
  },
  {
   "cell_type": "markdown",
   "id": "f07fbb9a",
   "metadata": {},
   "source": [
    "#### Observation: Employees with reviews less than 0.7 are more likely to leave company."
   ]
  },
  {
   "cell_type": "markdown",
   "id": "c4d006fb",
   "metadata": {},
   "source": [
    "## Building a Prediction Model\n",
    "\n",
    "### Pre-Processing Data"
   ]
  },
  {
   "cell_type": "code",
   "execution_count": 35,
   "id": "4396243f",
   "metadata": {},
   "outputs": [],
   "source": [
    "# Import Label Encoder\n",
    "from sklearn import preprocessing\n",
    "#creating labelEncoder\n",
    "le = preprocessing.LabelEncoder()\n",
    "# Converting string labels into numbers.\n",
    "data['salary']=le.fit_transform(data['salary'])\n",
    "data['department']=le.fit_transform(data['department'])"
   ]
  },
  {
   "cell_type": "markdown",
   "id": "c111e272",
   "metadata": {},
   "source": [
    "### Split, Train and Testing DataSet"
   ]
  },
  {
   "cell_type": "code",
   "execution_count": 36,
   "id": "afd7dbb4",
   "metadata": {},
   "outputs": [],
   "source": [
    "#Spliting data into Feature and\n",
    "X=data[['department', 'promoted', 'review', 'projects', 'salary', 'tenure',\n",
    "       'satisfaction', 'bonus', 'avg_hrs_month']]\n",
    "y=data['left']"
   ]
  },
  {
   "cell_type": "code",
   "execution_count": 37,
   "id": "399ab71f",
   "metadata": {},
   "outputs": [],
   "source": [
    "# Import train_test_split function\n",
    "from sklearn.model_selection import train_test_split\n",
    "\n",
    "# Split dataset into training set and test set\n",
    "X_train, X_test, y_train, y_test = train_test_split(X, y, test_size=0.3, random_state=42)  # 70% training and 30% test"
   ]
  },
  {
   "cell_type": "markdown",
   "id": "13770d02",
   "metadata": {},
   "source": [
    "### Building a Model"
   ]
  },
  {
   "cell_type": "code",
   "execution_count": 38,
   "id": "d2c68be4",
   "metadata": {},
   "outputs": [],
   "source": [
    "#Import Gradient Boosting Classifier model\n",
    "from sklearn.ensemble import GradientBoostingClassifier\n",
    "\n",
    "#Create Gradient Boosting Classifier\n",
    "gb = GradientBoostingClassifier()\n",
    "\n",
    "#Train the model using the training sets\n",
    "gb.fit(X_train, y_train)\n",
    "\n",
    "#Predict the response for test dataset\n",
    "y_pred = gb.predict(X_test)"
   ]
  },
  {
   "cell_type": "markdown",
   "id": "c7d696f0",
   "metadata": {},
   "source": [
    "### Evaluating Model Performance"
   ]
  },
  {
   "cell_type": "code",
   "execution_count": 39,
   "id": "c660be22",
   "metadata": {},
   "outputs": [
    {
     "name": "stdout",
     "output_type": "stream",
     "text": [
      "Accuracy: 0.8612858141160028\n",
      "Precision: 0.8059071729957806\n",
      "Recall: 0.6887019230769231\n"
     ]
    }
   ],
   "source": [
    "#Import scikit-learn metrics module for accuracy calculation\n",
    "from sklearn import metrics\n",
    "# Model Accuracy, how often is the classifier correct?\n",
    "print(\"Accuracy:\",metrics.accuracy_score(y_test, y_pred))\n",
    "# Model Precision\n",
    "print(\"Precision:\",metrics.precision_score(y_test, y_pred))\n",
    "# Model Recall\n",
    "print(\"Recall:\",metrics.recall_score(y_test, y_pred))"
   ]
  },
  {
   "cell_type": "markdown",
   "id": "3b68b734",
   "metadata": {},
   "source": [
    "## CONCLUSION:\n",
    "\n",
    "### From above all scatter plots we can colclude following:\n",
    "\n",
    "#### 1. Most of the employees leaving company have experience below 6 years. Maximum number of Employees are leaving organization after completing 6 years. From available data we can see that these employees worked on avg. 3-4 projects & they were earning medium salary. They might be looking to expand their knowledge, skills, & looking for a good career growth. This can be a possible reason for their leaving. \n",
    "\n",
    "#### 2. The Employees who didn't get Promotion, left the organization. Employees are expecting that company should know their values, Company should appreciate their efforts. If they do not get promoted for a long period of time during their service, there are high chances that they will leave the organization.\n",
    "\n",
    "#### 3. Maximum number of employees who left the organization were working around 175-185 hours/ Monthly. These working hours are actually lesser than employees who didnt leave the  organization. It looks like the employees who left the organization were not spending much time in office. They might be not liking their job & thus dont wanted to put extra efforts or working hours.\n",
    "\n",
    "#### 4. Maximum number of employees who left the organization were earning Medium salary. Salary is always an importnant factor behind employees dissatisfaction. \n",
    "\n",
    "    "
   ]
  }
 ],
 "metadata": {
  "kernelspec": {
   "display_name": "Python 3 (ipykernel)",
   "language": "python",
   "name": "python3"
  },
  "language_info": {
   "codemirror_mode": {
    "name": "ipython",
    "version": 3
   },
   "file_extension": ".py",
   "mimetype": "text/x-python",
   "name": "python",
   "nbconvert_exporter": "python",
   "pygments_lexer": "ipython3",
   "version": "3.10.5"
  }
 },
 "nbformat": 4,
 "nbformat_minor": 5
}
